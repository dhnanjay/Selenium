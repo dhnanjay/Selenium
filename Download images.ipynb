{
 "cells": [
  {
   "cell_type": "code",
   "execution_count": null,
   "metadata": {},
   "outputs": [],
   "source": []
  },
  {
   "cell_type": "code",
   "execution_count": null,
   "metadata": {},
   "outputs": [],
   "source": []
  },
  {
   "cell_type": "code",
   "execution_count": 42,
   "metadata": {},
   "outputs": [],
   "source": [
    "import numpy as np\n",
    "import os\n",
    "import pandas as pd\n",
    "import snowflake.connector\n",
    "from PIL import Image\n",
    "from pytesseract import pytesseract\n",
    "import glob \n",
    "import datetime as dt\n",
    "\n"
   ]
  },
  {
   "cell_type": "code",
   "execution_count": 29,
   "metadata": {},
   "outputs": [
    {
     "name": "stdout",
     "output_type": "stream",
     "text": [
      "=>  0\n",
      "=>  487\n",
      "=>  974\n",
      "=>  1461\n",
      "=>  1948\n",
      "=>  2435\n",
      "=>  2922\n",
      "=>  3409\n",
      "=>  3896\n",
      "=>  4383\n",
      "=>  4870\n",
      "=>  5357\n",
      "=>  5844\n",
      "=>  6331\n",
      "=>  6818\n",
      "=>  7305\n",
      "=>  7792\n",
      "=>  8279\n",
      "=>  8766\n",
      "=>  9253\n",
      "=>  9740\n",
      "=>  10227\n",
      "=>  10714\n",
      "=>  11201\n",
      "=>  11688\n",
      "CPU times: user 15.7 s, sys: 7.65 s, total: 23.4 s\n",
      "Wall time: 18h 36min 42s\n"
     ]
    }
   ],
   "source": [
    "%%time\n",
    "def sf_conn(user, pwd, url, wh=''):\n",
    "    cnx = snowflake.connector.connect(\n",
    "        user=user,\n",
    "        password=pwd,\n",
    "        account=url,\n",
    "        warehouse=wh\n",
    "    )\n",
    "    return cnx.cursor()\n",
    "\n",
    "\n",
    "def exec_query(query, user, pwd, url):\n",
    "    cur = sf_conn(user, pwd, url)\n",
    "    get_data = cur.execute(query).fetchall()\n",
    "    column_names = [i[0] for i in cur.description]\n",
    "    cur.close()\n",
    "    return (pd.DataFrame(get_data, columns=column_names))\n",
    "\n",
    "#-o datasette.png\n",
    "\n",
    "query = (\"\"\"select * from ;\"\"\")\n",
    "df = exec_query(query, '', '', '')\n",
    "\n",
    "ctr=0\n",
    "for index, row in df.iterrows():\n",
    "    try:\n",
    "        filename=str(row['Ticker'])+'-'+str(row['CIK'])+\".png\"\n",
    "        s_url = 'shot-scraper https://pcaobus.org/resources/auditorsearch/issuers/?issuercik='+str(row['CIK']) + ' -o ' + filename + ' --wait=2500'\n",
    "        os.system(s_url)\n",
    "        if ctr % 487 == 0:\n",
    "            print('=> ', ctr,)\n",
    "    except Exception as e:\n",
    "        print('😫', ctr, filename, e)\n",
    "        ctr=ctr+1\n",
    "        continue\n",
    "    ctr=ctr+1"
   ]
  },
  {
   "cell_type": "code",
   "execution_count": 11,
   "metadata": {},
   "outputs": [
    {
     "data": {
      "text/plain": [
       "12175"
      ]
     },
     "execution_count": 11,
     "metadata": {},
     "output_type": "execute_result"
    }
   ],
   "source": [
    "df.shape[0]"
   ]
  },
  {
   "cell_type": "code",
   "execution_count": 43,
   "metadata": {},
   "outputs": [
    {
     "name": "stdout",
     "output_type": "stream",
     "text": [
      "=>  0 2 2022-09-30 19:59:07.756248\n",
      "=>  487 1713 2022-09-30 20:19:07.085264\n",
      "=>  974 3472 2022-09-30 20:38:19.229157\n",
      "=>  1461 5238 2022-09-30 20:57:47.453990\n",
      "=>  2435 8675 2022-09-30 21:36:10.781210\n",
      "=>  2922 10403 2022-09-30 21:55:11.809441\n",
      "=>  3409 12016 2022-09-30 22:15:18.963824\n",
      "=>  3896 13720 2022-09-30 22:34:18.784083\n",
      "=>  4383 15395 2022-09-30 22:53:06.051240\n",
      "=>  4870 17171 2022-09-30 23:12:14.269032\n",
      "=>  5357 18877 2022-09-30 23:31:32.239573\n",
      "=>  6331 22245 2022-10-01 00:09:29.174302\n",
      "=>  6818 23864 2022-10-01 00:28:28.836195\n",
      "=>  7792 27181 2022-10-01 01:07:06.666254\n",
      "=>  8279 28938 2022-10-01 01:25:51.603474\n",
      "=>  8766 30600 2022-10-01 01:44:43.869219\n",
      "=>  9253 32375 2022-10-01 02:03:32.742135\n",
      "=>  9740 34082 2022-10-01 02:22:23.939927\n",
      "=>  11201 39183 2022-10-01 03:18:22.087548\n",
      "CPU times: user 1h 19min 18s, sys: 3min 56s, total: 1h 23min 15s\n",
      "Wall time: 7h 56min 25s\n"
     ]
    }
   ],
   "source": [
    "%%time\n",
    "\n",
    "path_to_tesseract = \"/usr/local/Cellar/tesseract/5.2.0/bin/tesseract\" #r\"C:\\Program Files\\Tesseract-OCR\\tesseract.exe\"\n",
    "split_list = ['YEAR', 'ENGAGEMENT PARTNER', 'FIRM' , 'ISSUER']\n",
    "\n",
    "error_list = [] \n",
    "df3 = pd.DataFrame(columns=['FORM_AP_FILING', 'YEAR', 'ENGAGEMENT_PARTNER', 'FIRM', 'ISSUER',  'CIK'], dtype=object)\n",
    "\n",
    "ctr=0\n",
    "for file in glob.glob(\"*.png\"):\n",
    "    try:\n",
    "        formList=[]\n",
    "        yearList=[]\n",
    "        engagement_list = []\n",
    "        firm_list = []\n",
    "        issuer_list = []\n",
    "        cik_list=[]\n",
    "        ticker_list=[]\n",
    "\n",
    "    # Opening the image & storing it in an image object\n",
    "        img = Image.open(file)\n",
    "  \n",
    "    # Providing the tesseract executable\n",
    "    # location to pytesseract library\n",
    "        pytesseract.tesseract_cmd = path_to_tesseract\n",
    "  \n",
    "    # Passing the image object to image_to_string() function\n",
    "    # This function will extract the text from the image\n",
    "        text = pytesseract.image_to_string(img)\n",
    "    \n",
    "        counter = 0\n",
    "        for i in text.split('FORM AP FILING'):\n",
    "            if (counter == 0 or len(i) < 3):\n",
    "                counter=counter+1\n",
    "                continue\n",
    "            formList.append(i[0:15].replace('\\n', ''))\n",
    "            \n",
    "            \n",
    "            cik_list.append(file.split('.png')[0].split('-')[-1])\n",
    "        \n",
    "            for j in split_list:\n",
    "                if j =='YEAR':\n",
    "                    yearList.append(i.split(j)[1][:6].replace('\\n', ''))\n",
    "                elif j == 'ENGAGEMENT PARTNER':\n",
    "                    engagement_list.append(i.split(j)[1].split('FIRM')[0].replace('\\n', ' '))\n",
    "                elif j == 'FIRM':\n",
    "                    firm_list.append(i.split(j)[1].split('ISSUER')[0].replace('\\n', ' '))\n",
    "                elif j == 'ISSUER':\n",
    "                    issuer_list.append(i.split(j)[1].replace('\\n', ' '))\n",
    "                \n",
    "\n",
    "        \n",
    "        df2 = pd.DataFrame( {'FORM_AP_FILING': formList, 'YEAR': yearList, 'ENGAGEMENT_PARTNER': engagement_list,\n",
    "                    'FIRM': firm_list,'ISSUER': issuer_list, 'CIK': cik_list })\n",
    "        df3=df3.append(df2)\n",
    "    except Exception as e:\n",
    "        ctr=ctr+1\n",
    "        error_list.append(str(file)+  ' 😫 ' + str(e))\n",
    "        continue\n",
    "    \n",
    "    if ctr % 487 == 0:\n",
    "        print('=> ', ctr, df3.shape[0], dt.datetime.now())\n",
    "    ctr=ctr+1\n",
    "        \n",
    "        \n",
    "df3.to_csv('data2.csv', index=False)\n",
    "        \n",
    "#         print(file, e)"
   ]
  },
  {
   "cell_type": "code",
   "execution_count": 38,
   "metadata": {},
   "outputs": [],
   "source": [
    "dfe = pd.DataFrame( {'ERRORS': error_list })"
   ]
  },
  {
   "cell_type": "code",
   "execution_count": 44,
   "metadata": {},
   "outputs": [
    {
     "data": {
      "text/plain": [
       "(42600, 6)"
      ]
     },
     "execution_count": 44,
     "metadata": {},
     "output_type": "execute_result"
    }
   ],
   "source": [
    "df3.shape"
   ]
  },
  {
   "cell_type": "code",
   "execution_count": 45,
   "metadata": {},
   "outputs": [
    {
     "data": {
      "text/plain": [
       "(1020, 1)"
      ]
     },
     "execution_count": 45,
     "metadata": {},
     "output_type": "execute_result"
    }
   ],
   "source": [
    "dfe.shape"
   ]
  },
  {
   "cell_type": "code",
   "execution_count": 46,
   "metadata": {},
   "outputs": [
    {
     "data": {
      "text/html": [
       "<div><div id=cd1b1aa9-8790-42f3-93c6-aeec69846dd7 style=\"display:none; background-color:#9D6CFF; color:white; width:200px; height:30px; padding-left:5px; border-radius:4px; flex-direction:row; justify-content:space-around; align-items:center;\" onmouseover=\"this.style.backgroundColor='#BA9BF8'\" onmouseout=\"this.style.backgroundColor='#9D6CFF'\" onclick=\"window.commands?.execute('create-mitosheet-from-dataframe-output');\">See Full Dataframe in Mito</div> <script> if (window.commands.hasCommand('create-mitosheet-from-dataframe-output')) document.getElementById('cd1b1aa9-8790-42f3-93c6-aeec69846dd7').style.display = 'flex' </script> <table border=\"1\" class=\"dataframe\">\n",
       "  <thead>\n",
       "    <tr style=\"text-align: right;\">\n",
       "      <th></th>\n",
       "      <th>ERRORS</th>\n",
       "    </tr>\n",
       "  </thead>\n",
       "  <tbody>\n",
       "    <tr>\n",
       "      <th>0</th>\n",
       "      <td>ob-1454938.png 😫 list index out of range</td>\n",
       "    </tr>\n",
       "    <tr>\n",
       "      <th>1</th>\n",
       "      <td>mgrb-1004434.png 😫 list index out of range</td>\n",
       "    </tr>\n",
       "    <tr>\n",
       "      <th>2</th>\n",
       "      <td>pht-1166258.png 😫 list index out of range</td>\n",
       "    </tr>\n",
       "    <tr>\n",
       "      <th>3</th>\n",
       "      <td>tlfa-909724.png 😫 list index out of range</td>\n",
       "    </tr>\n",
       "    <tr>\n",
       "      <th>4</th>\n",
       "      <td>vrtc-773318.png 😫 list index out of range</td>\n",
       "    </tr>\n",
       "  </tbody>\n",
       "</table></div>"
      ],
      "text/plain": [
       "                                       ERRORS\n",
       "0    ob-1454938.png 😫 list index out of range\n",
       "1  mgrb-1004434.png 😫 list index out of range\n",
       "2   pht-1166258.png 😫 list index out of range\n",
       "3   tlfa-909724.png 😫 list index out of range\n",
       "4   vrtc-773318.png 😫 list index out of range"
      ]
     },
     "execution_count": 46,
     "metadata": {},
     "output_type": "execute_result"
    }
   ],
   "source": [
    "dfe.head()"
   ]
  },
  {
   "cell_type": "code",
   "execution_count": 80,
   "metadata": {},
   "outputs": [],
   "source": [
    "df3=pd.read_csv('data2.csv')"
   ]
  },
  {
   "cell_type": "code",
   "execution_count": 81,
   "metadata": {},
   "outputs": [],
   "source": [
    "import datetime as dt\n",
    "for index, row in df3.iterrows():\n",
    "    if len(str(row['ENGAGEMENT_PARTNER']).strip()) < 2:\n",
    "        df3.at[index, 'ENGAGEMENT_PARTNER'] = ''\n",
    "    try:\n",
    "        s = str(row['FORM_AP_FILING']).replace('.', '').strip()\n",
    "        d = dt.datetime.strptime(s, '%b %d, %Y')\n",
    "        df3.at[index, 'FORM_AP_FILING'] = str(d)[:10]\n",
    "        \n",
    "    except Exception as e:\n",
    "        continue"
   ]
  },
  {
   "cell_type": "code",
   "execution_count": 82,
   "metadata": {},
   "outputs": [
    {
     "data": {
      "text/html": [
       "<div><div id=d3562793-0dba-4dd1-8f11-8722a79ce6a2 style=\"display:none; background-color:#9D6CFF; color:white; width:200px; height:30px; padding-left:5px; border-radius:4px; flex-direction:row; justify-content:space-around; align-items:center;\" onmouseover=\"this.style.backgroundColor='#BA9BF8'\" onmouseout=\"this.style.backgroundColor='#9D6CFF'\" onclick=\"window.commands?.execute('create-mitosheet-from-dataframe-output');\">See Full Dataframe in Mito</div> <script> if (window.commands.hasCommand('create-mitosheet-from-dataframe-output')) document.getElementById('d3562793-0dba-4dd1-8f11-8722a79ce6a2').style.display = 'flex' </script> <table border=\"1\" class=\"dataframe\">\n",
       "  <thead>\n",
       "    <tr style=\"text-align: right;\">\n",
       "      <th></th>\n",
       "      <th>FORM_AP_FILING</th>\n",
       "      <th>YEAR</th>\n",
       "      <th>ENGAGEMENT_PARTNER</th>\n",
       "      <th>FIRM</th>\n",
       "      <th>ISSUER</th>\n",
       "      <th>CIK</th>\n",
       "    </tr>\n",
       "  </thead>\n",
       "  <tbody>\n",
       "    <tr>\n",
       "      <th>9968</th>\n",
       "      <td>2022-07-27</td>\n",
       "      <td></td>\n",
       "      <td></td>\n",
       "      <td></td>\n",
       "      <td></td>\n",
       "      <td>1916902</td>\n",
       "    </tr>\n",
       "    <tr>\n",
       "      <th>13987</th>\n",
       "      <td>2022-09-23</td>\n",
       "      <td>2021</td>\n",
       "      <td>Benny Scott Hickson</td>\n",
       "      <td>Ernst &amp; Young LLP (42)</td>\n",
       "      <td>HF Sinclair  Corporation (DINO | 0001915657)  Sort By _ Filing Date (Newest) ~ € 1 ofl &gt; 24 Items Per Page  About Submit a Tip . Subscribe to our Newsletter  Oversight Comment Now * indicates required  Resources AuditorSearch Email address * lidentify myself as  : oe  What type of updates would you like to receive? * Contact the Firm Filings oe G u  CAI PCAOB Updates _[] Inspection Reports  PCAOB Communications oO Enforcement  to Audit Orders PCAOB Careers Committee Members  News Releases, O Speeches, and Communications Statements to Auditors  Communications to Investors</td>\n",
       "      <td>1915657</td>\n",
       "    </tr>\n",
       "    <tr>\n",
       "      <th>41802</th>\n",
       "      <td>2022-09-07</td>\n",
       "      <td></td>\n",
       "      <td></td>\n",
       "      <td></td>\n",
       "      <td></td>\n",
       "      <td>1915328</td>\n",
       "    </tr>\n",
       "    <tr>\n",
       "      <th>38933</th>\n",
       "      <td>2022-03-14</td>\n",
       "      <td>2021</td>\n",
       "      <td>Joseph Adam Jalbert</td>\n",
       "      <td>Baker Newman &amp; Noyes, P.A. Limited Liability Company (231)</td>\n",
       "      <td>ECB Bancorp, Inc. (ECBK | 0001914605)  Sort By _ Filing Date (Newest) ~ € 1 ofl &gt; 24 Items Per Page  About Submit a Tip . Subscribe to our Newsletter  Oversight Comment Now * indicates required  Resources AuditorSearch Email address * lidentify myself as  oe  What type of updates would you like to receive? *  Contact the Firm Filings CAI PCAOB Updates _[] Inspection Reports  PCAOB Communications oO Enforcement  to Audit Orders PCAOB Careers Committee Members  News Releases, O Speeches, and Communications Statements to Auditors  Communications to Investors</td>\n",
       "      <td>1914605</td>\n",
       "    </tr>\n",
       "    <tr>\n",
       "      <th>25706</th>\n",
       "      <td>2022-04-18</td>\n",
       "      <td></td>\n",
       "      <td></td>\n",
       "      <td></td>\n",
       "      <td></td>\n",
       "      <td>1913577</td>\n",
       "    </tr>\n",
       "  </tbody>\n",
       "</table></div>"
      ],
      "text/plain": [
       "      FORM_AP_FILING  YEAR       ENGAGEMENT_PARTNER  \\\n",
       "9968      2022-07-27                                  \n",
       "13987     2022-09-23  2021    Benny Scott Hickson     \n",
       "41802     2022-09-07                                  \n",
       "38933     2022-03-14  2021    Joseph Adam Jalbert     \n",
       "25706     2022-04-18                                  \n",
       "\n",
       "                                                    FIRM  \\\n",
       "9968                                                       \n",
       "13987                           Ernst & Young LLP (42)     \n",
       "41802                                                      \n",
       "38933    Baker Newman & Noyes, P.A. Limited Liability...   \n",
       "25706                                                      \n",
       "\n",
       "                                                  ISSUER      CIK  \n",
       "9968                                                      1916902  \n",
       "13987    HF Sinclair  Corporation (DINO | 0001915657)...  1915657  \n",
       "41802                                                     1915328  \n",
       "38933    ECB Bancorp, Inc. (ECBK | 0001914605)  Sort ...  1914605  \n",
       "25706                                                     1913577  "
      ]
     },
     "execution_count": 82,
     "metadata": {},
     "output_type": "execute_result"
    }
   ],
   "source": [
    "df3 = df3.sort_values(by=['CIK', 'FORM_AP_FILING', 'YEAR'], ascending=False)\n",
    "df3.head()"
   ]
  },
  {
   "cell_type": "code",
   "execution_count": 84,
   "metadata": {},
   "outputs": [
    {
     "data": {
      "text/plain": [
       "(42600, 6)"
      ]
     },
     "execution_count": 84,
     "metadata": {},
     "output_type": "execute_result"
    }
   ],
   "source": [
    "df3.loc[df3['ENGAGEMENT_PARTNER'].notnull()].shape"
   ]
  },
  {
   "cell_type": "code",
   "execution_count": 85,
   "metadata": {},
   "outputs": [
    {
     "data": {
      "text/plain": [
       "(42600, 6)"
      ]
     },
     "execution_count": 85,
     "metadata": {},
     "output_type": "execute_result"
    }
   ],
   "source": [
    "df3.shape"
   ]
  },
  {
   "cell_type": "code",
   "execution_count": 86,
   "metadata": {},
   "outputs": [],
   "source": [
    "df3.to_csv('sort_Data.csv', index=False)"
   ]
  },
  {
   "cell_type": "code",
   "execution_count": null,
   "metadata": {},
   "outputs": [],
   "source": []
  }
 ],
 "metadata": {
  "kernelspec": {
   "display_name": "Python 3",
   "language": "python",
   "name": "python3"
  },
  "language_info": {
   "codemirror_mode": {
    "name": "ipython",
    "version": 3
   },
   "file_extension": ".py",
   "mimetype": "text/x-python",
   "name": "python",
   "nbconvert_exporter": "python",
   "pygments_lexer": "ipython3",
   "version": "3.7.6"
  }
 },
 "nbformat": 4,
 "nbformat_minor": 4
}
