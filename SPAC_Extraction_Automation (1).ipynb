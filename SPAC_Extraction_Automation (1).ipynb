{
 "cells": [
  {
   "cell_type": "markdown",
   "metadata": {},
   "source": [
    "## Script to click on the Show All option and extract data"
   ]
  },
  {
   "cell_type": "code",
   "execution_count": null,
   "metadata": {},
   "outputs": [],
   "source": [
    "# Should have chrome installed on the machine running\n",
    "# Install selenium\n",
    "#!pip install selenium\n",
    "# Install yahooquery\n",
    "#!pip install yahooquery\n",
    "# ! Optional - download chrome driver based on OS and keep it in the same folder which has this notebook"
   ]
  },
  {
   "cell_type": "code",
   "execution_count": 1,
   "metadata": {},
   "outputs": [],
   "source": [
    "import re\n",
    "import platform\n",
    "from urllib.request import urlopen\n",
    "from zipfile import ZipFile\n",
    "from selenium import webdriver\n",
    "import time \n",
    "import pandas as pd\n",
    "import os\n",
    "from datetime import datetime\n",
    "from yahooquery import Ticker"
   ]
  },
  {
   "cell_type": "code",
   "execution_count": 10,
   "metadata": {},
   "outputs": [
    {
     "name": "stdout",
     "output_type": "stream",
     "text": [
      "Darwin\n"
     ]
    }
   ],
   "source": [
    "# Download chromedriver -- !! Latest One which matches with Chrome browser !!\n",
    "plat = platform.system()\n",
    "print(plat)\n",
    "if re.search('Windows', plat):\n",
    "    zipurl = \"https://chromedriver.storage.googleapis.com/90.0.4430.24/chromedriver_win32.zip\"\n",
    "\n",
    "###### Not tested on Linux yet\n",
    "elif re.search('Linux', plat):\n",
    "    zipurl = \"https://chromedriver.storage.googleapis.com/90.0.4430.24/chromedriver_linux64.zip\"\n",
    "\n",
    "elif re.search('Darwin', plat):\n",
    "    zipurl = \"https://chromedriver.storage.googleapis.com/107.0.5304.62/chromedriver_mac64.zip\"\n",
    "    #\"https://chromedriver.storage.googleapis.com/90.0.4430.24/chromedriver_mac64.zip\"\n",
    "    #\"https://chromedriver.storage.googleapis.com/index.html?path=107.0.5304.62/\"\n",
    "    \n",
    "zipresp = urlopen(zipurl)\n",
    "tempzip = open(\"tempfile.zip\", \"wb\")\n",
    "tempzip.write(zipresp.read())\n",
    "tempzip.close()\n",
    "zf = ZipFile(\"tempfile.zip\", \"r\")\n",
    "try: # If chromedriver is already downloaded, the next line throws errors but the script works. Hence the pass statement.\n",
    "    zf.extractall()\n",
    "except Exception as e:\n",
    "    pass\n",
    "zf.close()"
   ]
  },
  {
   "cell_type": "code",
   "execution_count": 11,
   "metadata": {},
   "outputs": [
    {
     "name": "stdout",
     "output_type": "stream",
     "text": [
      "SPAC_Extraction_Automation (1).ipynb tempfile.zip\r\n",
      "\u001b[31mchromedriver\u001b[m\u001b[m\r\n"
     ]
    }
   ],
   "source": [
    "!ls"
   ]
  },
  {
   "cell_type": "code",
   "execution_count": 12,
   "metadata": {},
   "outputs": [],
   "source": [
    "if plat=='Darwin':\n",
    "    os.chmod('./chromedriver', 755) # e.g. os.chmod('/Users/user/Documents/my_project/chromedriver', 0755)\n"
   ]
  },
  {
   "cell_type": "code",
   "execution_count": 13,
   "metadata": {
    "scrolled": true
   },
   "outputs": [
    {
     "ename": "IndexError",
     "evalue": "list index out of range",
     "output_type": "error",
     "traceback": [
      "\u001b[0;31m---------------------------------------------------------------------------\u001b[0m",
      "\u001b[0;31mIndexError\u001b[0m                                Traceback (most recent call last)",
      "\u001b[0;32m<ipython-input-13-3b76e2cd5cf2>\u001b[0m in \u001b[0;36m<module>\u001b[0;34m\u001b[0m\n\u001b[1;32m      6\u001b[0m \u001b[0melem2\u001b[0m \u001b[0;34m=\u001b[0m \u001b[0mdriver\u001b[0m\u001b[0;34m.\u001b[0m\u001b[0mfind_elements_by_xpath\u001b[0m\u001b[0;34m(\u001b[0m\u001b[0;34m\"//*[@id='table-research_length']/label/div[2]/div/button[4]\"\u001b[0m\u001b[0;34m)\u001b[0m \u001b[0;31m#Show All button\u001b[0m\u001b[0;34m\u001b[0m\u001b[0;34m\u001b[0m\u001b[0m\n\u001b[1;32m      7\u001b[0m \u001b[0;34m\u001b[0m\u001b[0m\n\u001b[0;32m----> 8\u001b[0;31m \u001b[0melem\u001b[0m\u001b[0;34m[\u001b[0m\u001b[0;36m0\u001b[0m\u001b[0;34m]\u001b[0m\u001b[0;34m.\u001b[0m\u001b[0mclick\u001b[0m\u001b[0;34m(\u001b[0m\u001b[0;34m)\u001b[0m\u001b[0;34m\u001b[0m\u001b[0;34m\u001b[0m\u001b[0m\n\u001b[0m\u001b[1;32m      9\u001b[0m \u001b[0mtime\u001b[0m\u001b[0;34m.\u001b[0m\u001b[0msleep\u001b[0m\u001b[0;34m(\u001b[0m\u001b[0;36m5\u001b[0m\u001b[0;34m)\u001b[0m\u001b[0;34m\u001b[0m\u001b[0;34m\u001b[0m\u001b[0m\n\u001b[1;32m     10\u001b[0m \u001b[0;34m\u001b[0m\u001b[0m\n",
      "\u001b[0;31mIndexError\u001b[0m: list index out of range"
     ]
    }
   ],
   "source": [
    "# Get data\n",
    "driver = webdriver.Chrome(os.getcwd()+'/chromedriver') # Need complete absolute path here\n",
    "driver.get(\"https://www.defianceetfs.com/spacresearch\") #put here the adress of your page\n",
    "\n",
    "elem = driver.find_elements_by_xpath(\"//*[@id='filters-dropdown-lenght']\") #outter dropdown button\n",
    "elem2 = driver.find_elements_by_xpath(\"//*[@id='table-research_length']/label/div[2]/div/button[4]\") #Show All button\n",
    "\n",
    "elem[0].click()\n",
    "time.sleep(5)\n",
    "\n",
    "elem2[0].click()\n",
    "item = driver.find_elements_by_xpath(\"//*[@id='table-research']//a\")\n",
    "time.sleep(3)\n",
    "\n",
    "counter = 0\n",
    "for table in driver.find_elements_by_xpath(\"//*[@id='table-research']//tr\"):\n",
    "    data = [item.text for item in table.find_elements_by_xpath(\".//*[self::td or self::th]\")]\n",
    "    if len(data) > 9:\n",
    "        if counter == 0:\n",
    "            data_df = pd.DataFrame(columns=data)\n",
    "            counter+=1\n",
    "        else:\n",
    "            df_1 = pd.DataFrame([data],columns=data_df.columns)\n",
    "            data_df = data_df.append(df_1, ignore_index=True)\n",
    "            \n",
    "driver.quit()\n",
    "print(data_df.shape)\n",
    "data_df.head()"
   ]
  },
  {
   "cell_type": "code",
   "execution_count": null,
   "metadata": {},
   "outputs": [],
   "source": [
    "def convertDate(date='07/14/2020'):\n",
    "    datList=date.split('/')\n",
    "    if len(datList) > 1:\n",
    "        date=datList[2]+'-'+datList[0]+'-'+datList[1]\n",
    "    return date"
   ]
  },
  {
   "cell_type": "code",
   "execution_count": null,
   "metadata": {},
   "outputs": [],
   "source": [
    "data_df[\"IPO date\"] = data_df[\"IPO date\"].apply(lambda x: convertDate(x)) \n",
    "data_df[\"Liquidation date\"] = data_df[\"Liquidation date\"].apply(lambda x: convertDate(x)) \n",
    "data_df[\"Trust acc/share\"] = data_df[\"Trust acc/share\"].apply(lambda x: re.sub(\"[^0-9^.]\", \"\", x)) \n",
    "data_df[\"Trust account\"] = data_df[\"Trust account\"].apply(lambda x: re.sub(\"[^0-9^.]\", \"\", x)) \n",
    "ts = datetime.fromtimestamp(datetime.timestamp(datetime.now()))\n",
    "data_df[\"TS\"]=ts\n",
    "data_df"
   ]
  },
  {
   "cell_type": "code",
   "execution_count": null,
   "metadata": {},
   "outputs": [],
   "source": [
    "def getInfo(ticker):\n",
    "    \n",
    "    try:\n",
    "        df=pd.DataFrame(columns=[\"Name\", \"Type\", \"Percentage\"])\n",
    "        ticker=ticker.upper()\n",
    "        company = Ticker(ticker)\n",
    "        try:\n",
    "            offcnameList=list(company.company_officers.name)\n",
    "            offctitleList=list(company.company_officers.title)\n",
    "            df_ofc = pd.DataFrame({'Name':offcnameList,'Type':offctitleList})\n",
    "            df_ofc[\"Percentage\"]=0.0\n",
    "            for index, row in df_ofc.iterrows():\n",
    "                cleaned_name = re.sub(r'(^\\w{2,3}\\. ?)', r'', row[\"Name\"])\n",
    "                df_ofc.at[index, 'Name']=cleaned_name.lower()\n",
    "            df=df.append(df_ofc)\n",
    "        except Exception as e:\n",
    "            print(\"1. company Leadership\", ticker,str(e))\n",
    "        \n",
    "        \n",
    "        try:\n",
    "            df_ins = pd.DataFrame({'Name':list(company.institution_ownership.organization),'Percentage':list(company.institution_ownership.pctHeld)})\n",
    "            df_ins[\"Type\"]=\"Institutuional Holder\"\n",
    "            df=df.append(df_ins)\n",
    "        except Exception as e:\n",
    "            print(\"2. Institutional holder\", ticker,str(e))     \n",
    "        \n",
    "        try:\n",
    "            df_mf = pd.DataFrame({'Name':list(company.fund_ownership.organization),'Percentage':list(company.fund_ownership.pctHeld)})\n",
    "            df_mf[\"Type\"]=\"Mutual Fund Holder\"\n",
    "            df=df.append(df_mf)\n",
    "        except Exception as e:\n",
    "            print(\"3. MututalFund holder\", ticker,str(e)) \n",
    "            \n",
    "        \n",
    "        if df.shape[0] > 0:\n",
    "            df[\"Symbol\"]=ticker\n",
    "            \n",
    "        return df\n",
    "    except Exception as e:\n",
    "        print(ticker, str(e))"
   ]
  },
  {
   "cell_type": "code",
   "execution_count": null,
   "metadata": {
    "scrolled": true
   },
   "outputs": [],
   "source": [
    "df_holders=pd.DataFrame(columns=[\"Name\", \"Type\", \"Percentage\"])\n",
    "for index, row in data_df.iterrows():\n",
    "    df2=getInfo(row['Symbol'])\n",
    "    try:\n",
    "        if df2.shape[0]>0:\n",
    "            df_holders=df_holders.append(df2)\n",
    "    except Exception as e:\n",
    "        pass\n",
    "        #print(row['Ticker'], str(e))\n",
    "df_holders[\"TS\"]=ts"
   ]
  },
  {
   "cell_type": "code",
   "execution_count": null,
   "metadata": {
    "scrolled": true
   },
   "outputs": [],
   "source": [
    "df_holders.sort_values(by='Percentage', ascending=False)\n",
    "df_holders"
   ]
  },
  {
   "cell_type": "markdown",
   "metadata": {},
   "source": [
    "## Create csv files"
   ]
  },
  {
   "cell_type": "code",
   "execution_count": 14,
   "metadata": {},
   "outputs": [],
   "source": [
    "#data_df.to_csv(\"SPAC_Data.csv\", index=False)\n",
    "#df_holders.to_csv(\"SPAC_holders.csv\", index=False)\n",
    "driver.quit()"
   ]
  },
  {
   "cell_type": "code",
   "execution_count": null,
   "metadata": {},
   "outputs": [],
   "source": []
  }
 ],
 "metadata": {
  "kernelspec": {
   "display_name": "Python 3",
   "language": "python",
   "name": "python3"
  },
  "language_info": {
   "codemirror_mode": {
    "name": "ipython",
    "version": 3
   },
   "file_extension": ".py",
   "mimetype": "text/x-python",
   "name": "python",
   "nbconvert_exporter": "python",
   "pygments_lexer": "ipython3",
   "version": "3.7.6"
  }
 },
 "nbformat": 4,
 "nbformat_minor": 4
}
