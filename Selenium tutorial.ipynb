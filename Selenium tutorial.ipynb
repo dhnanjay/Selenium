{
 "cells": [
  {
   "cell_type": "code",
   "execution_count": 1,
   "metadata": {},
   "outputs": [],
   "source": [
    "# Should have chrome installed on the machine running\n",
    "# Install selenium\n",
    "#!pip install selenium\n",
    "# Install yahooquery\n",
    "#!pip install yahooquery\n",
    "# ! Optional - download chrome driver based on OS and keep it in the same folder which has this notebook"
   ]
  },
  {
   "cell_type": "code",
   "execution_count": 53,
   "metadata": {},
   "outputs": [],
   "source": [
    "import re\n",
    "import platform\n",
    "from urllib.request import urlopen\n",
    "from zipfile import ZipFile\n",
    "from selenium import webdriver\n",
    "import time \n",
    "import pandas as pd\n",
    "import os\n",
    "from datetime import datetime"
   ]
  },
  {
   "cell_type": "code",
   "execution_count": 54,
   "metadata": {},
   "outputs": [],
   "source": [
    "url = 'https://www.adamchoi.co.uk/overs/detailed'"
   ]
  },
  {
   "cell_type": "code",
   "execution_count": 55,
   "metadata": {},
   "outputs": [
    {
     "name": "stdout",
     "output_type": "stream",
     "text": [
      "Darwin\n"
     ]
    }
   ],
   "source": [
    "# Identify OS/Platform and accordingly download/install Chrome driver\n",
    "plat = platform.system()\n",
    "print(plat)\n",
    "if re.search('Windows', plat):\n",
    "    zipurl = \"https://chromedriver.storage.googleapis.com/107.0.5304.62/chromedriver_win32.zip\"\n",
    "    #\"https://chromedriver.storage.googleapis.com/90.0.4430.24/chromedriver_win32.zip\"\n",
    "\n",
    "###### Not tested on Linux yet\n",
    "elif re.search('Linux', plat):\n",
    "    zipurl = \"https://chromedriver.storage.googleapis.com/90.0.4430.24/chromedriver_linux64.zip\"\n",
    "\n",
    "elif re.search('Darwin', plat):\n",
    "    zipurl = \"https://chromedriver.storage.googleapis.com/107.0.5304.62/chromedriver_mac64.zip\"\n",
    "    #\"https://chromedriver.storage.googleapis.com/90.0.4430.24/chromedriver_mac64.zip\"\n",
    "    #\"https://chromedriver.storage.googleapis.com/index.html?path=107.0.5304.62/\"\n",
    "    \n",
    "zipresp = urlopen(zipurl)\n",
    "tempzip = open(\"tempfile.zip\", \"wb\")\n",
    "tempzip.write(zipresp.read())\n",
    "tempzip.close()\n",
    "zf = ZipFile(\"tempfile.zip\", \"r\")\n",
    "try: # If chromedriver is already downloaded, the next line throws errors but the script works. Hence the pass statement.\n",
    "    zf.extractall()\n",
    "except Exception as e:\n",
    "    pass\n",
    "zf.close()"
   ]
  },
  {
   "cell_type": "code",
   "execution_count": 56,
   "metadata": {},
   "outputs": [
    {
     "name": "stdout",
     "output_type": "stream",
     "text": [
      "SPAC_Extraction_Automation (1).ipynb pswd.txt\r\n",
      "Selenium tutorial.ipynb              tempfile.zip\r\n",
      "\u001b[31mchromedriver\u001b[m\u001b[m\r\n"
     ]
    }
   ],
   "source": [
    "!ls"
   ]
  },
  {
   "cell_type": "code",
   "execution_count": 57,
   "metadata": {},
   "outputs": [],
   "source": [
    "## Change permission\n",
    "if plat=='Darwin':\n",
    "    os.chmod('./chromedriver', 755) # e.g. os.chmod('/Users/user/Documents/my_project/chromedriver', 0755)"
   ]
  },
  {
   "cell_type": "code",
   "execution_count": 49,
   "metadata": {},
   "outputs": [],
   "source": [
    "# Load driver\n",
    "\n",
    "driver = webdriver.Chrome(os.getcwd()+'/chromedriver') # Need complete absolute path here"
   ]
  },
  {
   "cell_type": "code",
   "execution_count": 52,
   "metadata": {},
   "outputs": [],
   "source": [
    "# Quit\n",
    "driver.quit()"
   ]
  },
  {
   "cell_type": "code",
   "execution_count": 58,
   "metadata": {},
   "outputs": [
    {
     "name": "stdout",
     "output_type": "stream",
     "text": [
      "CPU times: user 1.98 s, sys: 175 ms, total: 2.15 s\n",
      "Wall time: 49.7 s\n"
     ]
    }
   ],
   "source": [
    "%%time\n",
    "#Actual Data Fetch\n",
    "driver = webdriver.Chrome(os.getcwd()+'/chromedriver') # Need complete absolute path here\n",
    "driver.get(url)\n",
    "all_matches_button = driver.find_element_by_xpath('//label[@analytics-event=\"All matches\"]')\n",
    "all_matches_button.click()\n",
    "\n",
    "matches = driver.find_elements_by_tag_name('tr')\n",
    "date =[]\n",
    "home_team = []\n",
    "score =[]\n",
    "away_team = []\n",
    "\n",
    "for match in matches:\n",
    "#     print(matches.text)\n",
    "#     break\n",
    "    date.append(match.find_element_by_xpath('./td[1]').text)\n",
    "    home_team.append(match.find_element_by_xpath('./td[2]').text)\n",
    "    score.append(match.find_element_by_xpath('./td[3]').text)\n",
    "    away_team.append(match.find_element_by_xpath('./td[4]').text)\n",
    "driver.quit()\n",
    "\n",
    "df = pd.DataFrame({'date': date, 'home_team': home_team, 'score' : score, 'away_team': away_team})"
   ]
  },
  {
   "cell_type": "code",
   "execution_count": 59,
   "metadata": {},
   "outputs": [
    {
     "data": {
      "text/html": [
       "<div><div id=1ee0d6f1-8658-4025-ba05-54cc44863638 style=\"display:none; background-color:#9D6CFF; color:white; width:200px; height:30px; padding-left:5px; border-radius:4px; flex-direction:row; justify-content:space-around; align-items:center;\" onmouseover=\"this.style.backgroundColor='#BA9BF8'\" onmouseout=\"this.style.backgroundColor='#9D6CFF'\" onclick=\"window.commands?.execute('create-mitosheet-from-dataframe-output');\">See Full Dataframe in Mito</div> <script> if (window.commands.hasCommand('create-mitosheet-from-dataframe-output')) document.getElementById('1ee0d6f1-8658-4025-ba05-54cc44863638').style.display = 'flex' </script> <table border=\"1\" class=\"dataframe\">\n",
       "  <thead>\n",
       "    <tr style=\"text-align: right;\">\n",
       "      <th></th>\n",
       "      <th>date</th>\n",
       "      <th>home_team</th>\n",
       "      <th>score</th>\n",
       "      <th>away_team</th>\n",
       "    </tr>\n",
       "  </thead>\n",
       "  <tbody>\n",
       "    <tr>\n",
       "      <th>0</th>\n",
       "      <td>05-08-2022</td>\n",
       "      <td>Crystal Palace</td>\n",
       "      <td>0 - 2</td>\n",
       "      <td>Arsenal</td>\n",
       "    </tr>\n",
       "    <tr>\n",
       "      <th>1</th>\n",
       "      <td>13-08-2022</td>\n",
       "      <td>Arsenal</td>\n",
       "      <td>4 - 2</td>\n",
       "      <td>Leicester</td>\n",
       "    </tr>\n",
       "    <tr>\n",
       "      <th>2</th>\n",
       "      <td>20-08-2022</td>\n",
       "      <td>Bournemouth</td>\n",
       "      <td>0 - 3</td>\n",
       "      <td>Arsenal</td>\n",
       "    </tr>\n",
       "    <tr>\n",
       "      <th>3</th>\n",
       "      <td>27-08-2022</td>\n",
       "      <td>Arsenal</td>\n",
       "      <td>2 - 1</td>\n",
       "      <td>Fulham</td>\n",
       "    </tr>\n",
       "    <tr>\n",
       "      <th>4</th>\n",
       "      <td>31-08-2022</td>\n",
       "      <td>Arsenal</td>\n",
       "      <td>2 - 1</td>\n",
       "      <td>Aston Villa</td>\n",
       "    </tr>\n",
       "  </tbody>\n",
       "</table></div>"
      ],
      "text/plain": [
       "         date       home_team  score    away_team\n",
       "0  05-08-2022  Crystal Palace  0 - 2      Arsenal\n",
       "1  13-08-2022         Arsenal  4 - 2    Leicester\n",
       "2  20-08-2022     Bournemouth  0 - 3      Arsenal\n",
       "3  27-08-2022         Arsenal  2 - 1       Fulham\n",
       "4  31-08-2022         Arsenal  2 - 1  Aston Villa"
      ]
     },
     "execution_count": 59,
     "metadata": {},
     "output_type": "execute_result"
    }
   ],
   "source": [
    "df.head()"
   ]
  },
  {
   "cell_type": "code",
   "execution_count": 60,
   "metadata": {},
   "outputs": [
    {
     "data": {
      "text/plain": [
       "(292, 4)"
      ]
     },
     "execution_count": 60,
     "metadata": {},
     "output_type": "execute_result"
    }
   ],
   "source": [
    "df.shape"
   ]
  },
  {
   "cell_type": "code",
   "execution_count": 12,
   "metadata": {},
   "outputs": [],
   "source": [
    "############### Clara App Login Automation ##############"
   ]
  },
  {
   "cell_type": "code",
   "execution_count": 61,
   "metadata": {},
   "outputs": [],
   "source": [
    "url = 'https://app.connorgp.com'\n",
    "\n",
    "# Load Password\n",
    "f = open(\"pswd.txt\", \"r\")\n",
    "pswd = f.read()\n",
    "\n",
    "# Load Driver\n",
    "driver = webdriver.Chrome(os.getcwd()+'/chromedriver') # Need complete absolute path here\n",
    "\n",
    "#Navigate to URL\n",
    "driver.get(url)\n",
    "time.sleep(10)\n",
    "\n",
    "# Click Login\n",
    "driver.find_element_by_css_selector(\".btn-primary\").click()\n",
    "time.sleep(10) #loginfmt\n",
    "\n",
    "driver.find_element_by_name(\"loginfmt\").send_keys('dhananjay.kumar@connorgp.com')\n",
    "time.sleep(2)\n",
    "driver.find_element_by_css_selector(\".button_primary\").click()\n",
    "time.sleep(10)\n",
    "driver.find_element_by_name(\"passwd\").send_keys(pswd.strip())\n",
    "time.sleep(5)\n",
    "driver.find_element_by_css_selector(\".button_primary\").click()\n",
    "time.sleep(10)\n",
    "# driver.find_element_by_link_text(\"Clara\").click()\n",
    "driver.find_element_by_css_selector('div.app').click()\n",
    "time.sleep(20)\n",
    "driver.quit()"
   ]
  },
  {
   "cell_type": "code",
   "execution_count": 63,
   "metadata": {},
   "outputs": [
    {
     "name": "stdout",
     "output_type": "stream",
     "text": [
      "\u001b[33mWARNING: Package(s) not found: selenium\u001b[0m\u001b[33m\r\n",
      "\u001b[0m"
     ]
    }
   ],
   "source": [
    "!pip3 show selenium"
   ]
  },
  {
   "cell_type": "code",
   "execution_count": null,
   "metadata": {},
   "outputs": [],
   "source": []
  }
 ],
 "metadata": {
  "kernelspec": {
   "display_name": "Python 3",
   "language": "python",
   "name": "python3"
  },
  "language_info": {
   "codemirror_mode": {
    "name": "ipython",
    "version": 3
   },
   "file_extension": ".py",
   "mimetype": "text/x-python",
   "name": "python",
   "nbconvert_exporter": "python",
   "pygments_lexer": "ipython3",
   "version": "3.7.6"
  }
 },
 "nbformat": 4,
 "nbformat_minor": 4
}
